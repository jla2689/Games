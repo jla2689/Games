{
 "cells": [
  {
   "cell_type": "code",
   "execution_count": 212,
   "metadata": {},
   "outputs": [],
   "source": [
    "import urllib2, time, random, re\n",
    "from bs4 import BeautifulSoup, SoupStrainer\n",
    "import pandas as pd\n",
    "import requests\n",
    "import pickle\n",
    "import nltk\n",
    "import surprise\n",
    "import math\n",
    "from sklearn.metrics.pairwise import cosine_similarity\n",
    "import re"
   ]
  },
  {
   "cell_type": "code",
   "execution_count": 2,
   "metadata": {},
   "outputs": [
    {
     "name": "stderr",
     "output_type": "stream",
     "text": [
      "/anaconda2/lib/python2.7/site-packages/bs4/__init__.py:181: UserWarning: No parser was explicitly specified, so I'm using the best available HTML parser for this system (\"lxml\"). This usually isn't a problem, but if you run this code on another system, or in a different virtual environment, it may use a different parser and behave differently.\n",
      "\n",
      "The code that caused this warning is on line 174 of the file /anaconda2/lib/python2.7/runpy.py. To get rid of this warning, change code that looks like this:\n",
      "\n",
      " BeautifulSoup(YOUR_MARKUP})\n",
      "\n",
      "to this:\n",
      "\n",
      " BeautifulSoup(YOUR_MARKUP, \"lxml\")\n",
      "\n",
      "  markup_type=markup_type))\n"
     ]
    }
   ],
   "source": [
    "#find all the links given website and append to all_url list. From that list find all the links that end with /boardgame/somedigits\n",
    "soup = BeautifulSoup(urllib2.urlopen(urllib2.Request(\"https://boardgamegeek.com/browse/boardgame\")).read())\n",
    "all_url = []\n",
    "for i in range(1,6):\n",
    "    soup = BeautifulSoup(urllib2.urlopen(urllib2.Request(\"https://boardgamegeek.com/browse/boardgame/page/\" + str(i))).read())\n",
    "    for a in soup.find_all('a', href = True):\n",
    "        all_url.append(a['href'])\n",
    "board_games = []\n",
    "for url in all_url:\n",
    "    if re.match('/boardgame/\\d+\\w+', url):\n",
    "        board_games.append(url)"
   ]
  },
  {
   "cell_type": "code",
   "execution_count": 3,
   "metadata": {},
   "outputs": [],
   "source": [
    "#get the board game ID numbers\n",
    "board_games_nums =[]\n",
    "for b in board_games:\n",
    "    d = re.search('\\d+', b)\n",
    "    board_games_nums.append(d.group(0))"
   ]
  },
  {
   "cell_type": "code",
   "execution_count": 4,
   "metadata": {
    "scrolled": true
   },
   "outputs": [
    {
     "name": "stdout",
     "output_type": "stream",
     "text": [
      "518\n",
      "http://www.boardgamegeek.com/xmlapi/boardgame/134726,201808,9674,246744,139976,93,164928,68425,182028,21763,20963,37046,54043,205896,712,27833,155362,91312,42215,40834,82222,143741,43570,161970,205059?comments=1\n",
      "493\n",
      "http://www.boardgamegeek.com/xmlapi/boardgame/27173,155703,92415,175914,17226,95527,18098,162082,54138,42052,128271,157354,521,70323,43111,136888,164153,140934,154203,221965,73761,17133,31481,123260,231581?comments=1\n",
      "468\n",
      "http://www.boardgamegeek.com/xmlapi/boardgame/194607,146652,111799,128996,97207,125618,135219,2163,10630,31594,84876,244992,204305,22545,136063,101721,172308,209778,37111,103343,12333,127060,170416,73439,35677?comments=1\n",
      "443\n",
      "http://www.boardgamegeek.com/xmlapi/boardgame/20551,192135,91,35570,198994,94,150,3201,155821,153938,146278,102652,92828,93260,165722,100901,137269,555,168584,113924,12942,234,148228,43015,2346?comments=1\n",
      "418\n",
      "http://www.boardgamegeek.com/xmlapi/boardgame/31730,215341,172287,177736,175640,12493,209685,147020,21790,124361,9440,39351,132531,133848,24480,141572,126163,236457,161614,162886,143519,119890,148949,129622,167791?comments=1\n",
      "393\n",
      "http://www.boardgamegeek.com/xmlapi/boardgame/166669,126042,127398,27746,2653,2651,9209,2655,185343,138161,97842,6472,15364,28181,41114,171131,63888,163166,151022,131287,14105,155987,41002,90137,161533?comments=1\n",
      "368\n",
      "http://www.boardgamegeek.com/xmlapi/boardgame/31999,194594,144344,155624,14996,26566,248065,148575,146439,170216,188920,372,30957,822,230267,133473,121921,37904,166384,88,3307,122515,79127,220308,98778?comments=1\n",
      "343\n",
      "http://www.boardgamegeek.com/xmlapi/boardgame/233078,113997,25613,176920,127023,65901,586,40354,157969,63628,24800,182874,193037,243,148319,36235,21050,760,5404,26997,199042,220877,158275,12002,182134?comments=1\n",
      "318\n",
      "http://www.boardgamegeek.com/xmlapi/boardgame/233312,218603,205637,107529,39856,192291,173346,1345,30380,7854,172,171,79828,219513,50750,7717,196340,156009,188,151347,66188,5782,221194,172386,159508?comments=1\n",
      "293\n",
      "http://www.boardgamegeek.com/xmlapi/boardgame/9625,11,13,12,33160,38453,18,209660,209010,155068,36932,162286,137988,175155,177639,146508,68448,18833,120677,59959,82421,222514,143693,84419,71?comments=1\n",
      "268\n",
      "http://www.boardgamegeek.com/xmlapi/boardgame/70,48726,72125,69789,140603,21882,156546,102794,103886,143515,38996,217372,150658,204583,215,194655,118048,248763,39463,205359,187645,156129,234487,132028,104162?comments=1\n",
      "243\n",
      "http://www.boardgamegeek.com/xmlapi/boardgame/128882,171623,181530,21348,121,160477,9823,197376,123123,113294,528,128671,160495,29603,234669,246900,70512,170042,96913,150376,180263,34635,126792,139898,34119?comments=1\n",
      "218\n",
      "http://www.boardgamegeek.com/xmlapi/boardgame/224037,82420,109276,172081,130960,117959,111341,110277,169786,20437,10547,62219,158889,77423,192153,54625,19777,15363,238638,19857,8217,195539,131357,116998,12962?comments=1\n",
      "193\n",
      "http://www.boardgamegeek.com/xmlapi/boardgame/90419,6249,183562,119432,43528,193558,226320,172818,503,104006,171668,1353,12891,463,25554,137408,100423,59294,70149,24508,3685,65781,31627,2511,1513?comments=1\n",
      "168\n",
      "http://www.boardgamegeek.com/xmlapi/boardgame/47185,45315,200680,27976,181521,36553,163745,15062,875,163068,144797,167400,117915,156943,133038,123540,41066,55600,54998,174430,163839,25292,158600,46,58281?comments=1\n",
      "143\n",
      "http://www.boardgamegeek.com/xmlapi/boardgame/199561,55670,160499,103885,180511,155426,163412,83330,178900,181279,110327,70919,55690,173442,108745,155873,129437,198928,62222,62227,13004,27162,40765,206718,97786?comments=1\n",
      "118\n",
      "http://www.boardgamegeek.com/xmlapi/boardgame/192836,31260,182631,168435,36218,17392,28023,159675,66362,58421,119506,54,50,183394,233371,189932,180974,144733,15987,15985,183251,156689,24181,31563,102680?comments=1\n",
      "93\n",
      "http://www.boardgamegeek.com/xmlapi/boardgame/124742,39938,27708,176396,169255,118,151004,144592,188834,203993,91872,203420,144189,421,28720,191189,207243,162007,22345,77130,96848,39683,121408,176734,147949?comments=1\n",
      "68\n",
      "http://www.boardgamegeek.com/xmlapi/boardgame/105551,206941,176494,146021,150997,146791,66589,18602,160010,158899,163967,30549,230802,163968,13122,163602,221107,181304,25417,30869,195421,146886,2181,3076,28143?comments=1\n",
      "43\n",
      "http://www.boardgamegeek.com/xmlapi/boardgame/25021,216132,105134,191862,34219,40692,1035,174785,140620,161936,169426,73171,46213,124708,171499,65532,128621,11170,125153,128780,47,42,156336,193738,186751?comments=1\n",
      "18\n",
      "http://www.boardgamegeek.com/xmlapi/boardgame/199478,9609,4098,154809,21241,22827,9216,9217,121288,4390,198773,176189,192458,42776,475,478,115746,192457?comments=1\n"
     ]
    }
   ],
   "source": [
    "#find the descriptions of all the games and add to dictionary\n",
    "games = list(set(board_games_nums))\n",
    "dic ={}\n",
    "while len(games)>0:\n",
    "    print len(games)\n",
    "    s = ','.join(games[:25])\n",
    "    final_url = 'http://www.boardgamegeek.com/xmlapi/boardgame/' + s + '?comments=1'\n",
    "    print final_url\n",
    "    soup = BeautifulSoup(urllib2.urlopen(urllib2.Request(final_url)).read())\n",
    "    for num in games[:25]:\n",
    "        name_of_game = soup.find('boardgame', {'objectid': num}).find('name', {'primary' : 'true'}).text\n",
    "        des = soup.find('boardgame', {'objectid': num}).description.text\n",
    "        dic[name_of_game] = {}\n",
    "        dic[name_of_game]['description'] = des\n",
    "        #list_of_comments =[]\n",
    "        #for c in soup.find('boardgame', {'objectid': num}).find_all('comment', {'usernames': True}):\n",
    "        #    list_of_comments.append(c.text)\n",
    "        #dic[name_of_game]['comments'] = ' '.join(list_of_comments)\n",
    "    games = games[25:]\n"
   ]
  },
  {
   "cell_type": "code",
   "execution_count": 17,
   "metadata": {},
   "outputs": [],
   "source": [
    "#saving the dictionary \n",
    "pickle_out = open('dic_of_game_desp', 'wb')\n",
    "pickle.dump(dic, pickle_out)\n",
    "pickle_out.close()"
   ]
  },
  {
   "cell_type": "code",
   "execution_count": 18,
   "metadata": {},
   "outputs": [],
   "source": [
    "#loading the dictionary\n",
    "pickle_in = open('dic_of_game_desp', 'rb')\n",
    "dic2 = pickle.load(pickle_in)"
   ]
  },
  {
   "cell_type": "code",
   "execution_count": 68,
   "metadata": {},
   "outputs": [],
   "source": [
    "#tokenize words\n",
    "#do some preprocessing with Lemmatizer and Stemming\n",
    "from nltk.tokenize import RegexpTokenizer\n",
    "from nltk.corpus import stopwords\n",
    "from nltk.stem import WordNetLemmatizer, PorterStemmer\n",
    "tokenize ={}\n",
    "tokenize_lem = {}\n",
    "toeknize_stem = {}\n",
    "stop_words = stopwords.words('english')\n",
    "stop_words.append('br')\n",
    "stop_words = set(stop_words)\n",
    "tokenizer = RegexpTokenizer(r'\\w+')\n",
    "lemmatizer = WordNetLemmatizer()\n",
    "ps = PorterStemmer()\n",
    "for game in dic.keys():\n",
    "    des = tokenizer.tokenize(dic[game]['description'])\n",
    "    lower_des = [d.lower() for d in des]\n",
    "    filtered_des = [w for w in lower_des if not w in stop_words]\n",
    "    lem_des = [lemmatizer.lemmatize(w) for w in filtered_des]\n",
    "    stem_des = [ps.stem(w) for w in filtered_des]\n",
    "    tokenize_lem[game] = nltk.FreqDist(lem_des)\n",
    "    tokenize[game]= nltk.FreqDist(filtered_des)\n",
    "    tokenize_stem[game] = nltk.FreqDist(stem_des)"
   ]
  },
  {
   "cell_type": "code",
   "execution_count": 182,
   "metadata": {},
   "outputs": [],
   "source": [
    "#change tokenize words to Dataframe\n",
    "tokenize_df = pd.DataFrame.from_dict(tokenize, orient = 'index').fillna(0)\n",
    "#tokenize_stem_df = pd.DataFrame.from_dict(tokenize_stem, orient = 'index').fillna(0)\n",
    "#tokenize_lem_df = pd.DataFrame.from_dict(tokenize_lem, orient = 'index').fillna(0)"
   ]
  },
  {
   "cell_type": "code",
   "execution_count": 183,
   "metadata": {},
   "outputs": [],
   "source": [
    "#Term frequency\n",
    "def term_freq(df):\n",
    "    df.loc[:,:]= df.loc[:,:].div(df.sum(axis=1), axis = 0)\n",
    "    return(df)"
   ]
  },
  {
   "cell_type": "code",
   "execution_count": 184,
   "metadata": {},
   "outputs": [],
   "source": [
    "def IDF(df):\n",
    "    num_doc_with_word = df.astype(bool).sum(axis=0)\n",
    "    num_games = len(df.index)\n",
    "    idf = np.log(num_games / (1 + df.astype(bool).sum(axis=0)))\n",
    "    return(idf)"
   ]
  },
  {
   "cell_type": "code",
   "execution_count": 185,
   "metadata": {},
   "outputs": [],
   "source": [
    "def tf_idf(tf_df, idf):\n",
    "    df = tf_df.multiply(idf, axis =1)\n",
    "    return(df)"
   ]
  },
  {
   "cell_type": "code",
   "execution_count": 186,
   "metadata": {},
   "outputs": [],
   "source": [
    "t = term_freq(tokenize_df)\n",
    "idf_t = IDF(t)\n",
    "t_dif = tf_idf(t, idf_t.values)"
   ]
  },
  {
   "cell_type": "code",
   "execution_count": 292,
   "metadata": {},
   "outputs": [],
   "source": [
    "def recommend(game, df = t_dif):\n",
    "    cos = cosine_similarity(df)\n",
    "    names = [c.lower() for c in df.index.values]\n",
    "    cos_df = pd.DataFrame(cos, index = names, columns = names)\n",
    "    r = re.compile(str(game).lower())\n",
    "    games = [w.lower() for w in list(t_dif.index.values)]\n",
    "    g = filter(r.match, games)\n",
    "    if len(g) == 0:\n",
    "        print('This Game is not in the top 100 games in BGG')\n",
    "    else:\n",
    "        top = cos_df.loc[:,g[0]].sort_values(ascending = False)[1:11].index.values\n",
    "        for c, value in enumerate(top, 1):\n",
    "            print(c, value)"
   ]
  },
  {
   "cell_type": "code",
   "execution_count": 293,
   "metadata": {},
   "outputs": [
    {
     "name": "stdout",
     "output_type": "stream",
     "text": [
      "(1, u'vast: the crystal caverns')\n",
      "(2, u'summoner wars: guild dwarves vs cave goblins')\n",
      "(3, u'agricola: all creatures big and small')\n",
      "(4, u'agricola (revised edition)')\n",
      "(5, u'agricola')\n",
      "(6, u'ora et labora')\n",
      "(7, u'above and below')\n",
      "(8, u'summoner wars: alliances master set')\n",
      "(9, u'belfort')\n",
      "(10, u'the colonists')\n"
     ]
    }
   ],
   "source": [
    "recommend('caverna')"
   ]
  },
  {
   "cell_type": "code",
   "execution_count": 295,
   "metadata": {},
   "outputs": [
    {
     "name": "stdout",
     "output_type": "stream",
     "text": [
      "This Game is not in the top 100 games in BGG\n"
     ]
    }
   ],
   "source": [
    "recommend('Jens favorite game')"
   ]
  },
  {
   "cell_type": "code",
   "execution_count": null,
   "metadata": {},
   "outputs": [],
   "source": []
  }
 ],
 "metadata": {
  "kernelspec": {
   "display_name": "Python 2",
   "language": "python",
   "name": "python2"
  },
  "language_info": {
   "codemirror_mode": {
    "name": "ipython",
    "version": 2
   },
   "file_extension": ".py",
   "mimetype": "text/x-python",
   "name": "python",
   "nbconvert_exporter": "python",
   "pygments_lexer": "ipython2",
   "version": "2.7.14"
  }
 },
 "nbformat": 4,
 "nbformat_minor": 1
}
