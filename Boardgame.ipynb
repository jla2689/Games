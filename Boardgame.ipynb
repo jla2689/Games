{
 "cells": [
  {
   "cell_type": "code",
   "execution_count": 194,
   "metadata": {
    "collapsed": false
   },
   "outputs": [],
   "source": [
    "import urllib2, time, random, re\n",
    "from bs4 import BeautifulSoup, SoupStrainer\n",
    "import pandas as pd\n",
    "import requests"
   ]
  },
  {
   "cell_type": "code",
   "execution_count": 7,
   "metadata": {
    "collapsed": false
   },
   "outputs": [
    {
     "name": "stdout",
     "output_type": "stream",
     "text": [
      "1\n",
      "2\n",
      "3\n",
      "4\n",
      "5\n"
     ]
    }
   ],
   "source": [
    "#find all the links given website and append to all_url list. From that list find all the links that end with /boardgame/somedigits\n",
    "soup = BeautifulSoup(urllib2.urlopen(urllib2.Request(\"https://boardgamegeek.com/browse/boardgame\")).read())\n",
    "all_url = []\n",
    "for i in range(1,6):\n",
    "    print i\n",
    "    soup = BeautifulSoup(urllib2.urlopen(urllib2.Request(\"https://boardgamegeek.com/browse/boardgame/page/\" + str(i))).read())\n",
    "    for a in soup.find_all('a', href = True):\n",
    "        all_url.append(a['href'])\n",
    "board_games = []\n",
    "for url in all_url:\n",
    "    if re.match('/boardgame/\\d+\\w+', url):\n",
    "        board_games.append(url)"
   ]
  },
  {
   "cell_type": "code",
   "execution_count": 236,
   "metadata": {
    "collapsed": false
   },
   "outputs": [],
   "source": [
    "#get the board game ID numbers\n",
    "board_games_nums =[]\n",
    "for b in board_games:\n",
    "    d = re.search('\\d+', b)\n",
    "    board_games_nums.append(d.group(0))"
   ]
  },
  {
   "cell_type": "code",
   "execution_count": 143,
   "metadata": {
    "collapsed": false,
    "scrolled": true
   },
   "outputs": [
    {
     "name": "stdout",
     "output_type": "stream",
     "text": [
      "516\n",
      "http://www.boardgamegeek.com/xmlapi/boardgame/134726,137408,9674,139976,29368,198994,164928,68425,182028,21763,20963,108906,37046,54043,712,27833,155362,91312,191189,40834,82222,143741,43570,161970,205059?comments=1\n",
      "491\n",
      "http://www.boardgamegeek.com/xmlapi/boardgame/27173,155703,92415,106217,175914,17226,95527,18098,162082,54138,85897,42052,128271,157354,69779,521,70323,43111,136888,164153,140934,154203,73761,17133,38823?comments=1\n",
      "466\n",
      "http://www.boardgamegeek.com/xmlapi/boardgame/31481,70149,194607,146652,111799,128996,97207,125618,135219,2163,10630,31594,84876,22545,136063,101721,172308,209778,28143,103343,12333,127060,170416,73439,35677?comments=1\n",
      "441\n",
      "http://www.boardgamegeek.com/xmlapi/boardgame/20551,13642,192135,91,35570,93,94,150,3201,155821,153938,146278,128882,102652,92828,93260,100901,137269,98778,555,554,168584,113924,12942,234?comments=1\n",
      "416\n",
      "http://www.boardgamegeek.com/xmlapi/boardgame/148228,43015,2346,172737,31730,172287,177736,175640,166384,209685,147020,21790,124361,9440,39351,132531,133848,24480,141572,126163,95064,161614,143519,119890,148949?comments=1\n",
      "391\n",
      "http://www.boardgamegeek.com/xmlapi/boardgame/129622,167791,166669,126042,127398,27746,1301,2653,2651,9209,2655,491,185343,138161,97842,6472,15364,28181,53953,18602,939,171131,72225,63888,163166?comments=1\n",
      "366\n",
      "http://www.boardgamegeek.com/xmlapi/boardgame/151022,131287,14105,155987,41002,90137,31999,144344,155624,14996,26566,148575,146439,170216,176734,372,30957,822,133473,37904,12493,88,3307,122515,79127?comments=1\n",
      "341\n",
      "http://www.boardgamegeek.com/xmlapi/boardgame/121921,113997,25613,176920,127023,65901,586,40354,157969,220520,63628,24800,182874,193037,240,243,148319,36235,21050,5404,26997,199042,158275,12002,182134?comments=1\n",
      "316\n",
      "http://www.boardgamegeek.com/xmlapi/boardgame/205637,107529,39856,192291,173346,1345,2453,30380,7854,172,171,79828,50750,7717,196340,147151,205907,156009,188,151347,66188,5782,102794,172386,159508?comments=1\n",
      "291\n",
      "http://www.boardgamegeek.com/xmlapi/boardgame/9625,11,13,12,33160,38453,18,209010,155068,36932,162286,137988,175155,177639,146508,68448,197831,18833,37111,59959,143693,84419,71,48726,72125?comments=1\n",
      "266\n",
      "http://www.boardgamegeek.com/xmlapi/boardgame/69789,140603,21882,180511,143515,38996,150658,204583,215,194655,118048,39463,205359,187645,156129,169124,105187,132028,104162,760,171623,181530,21348,121,160477?comments=1\n",
      "241\n",
      "http://www.boardgamegeek.com/xmlapi/boardgame/9823,52461,177965,123123,113294,528,128671,160495,29603,70512,170042,96913,150376,45986,34635,126792,139898,34119,82421,82420,109276,172081,130960,117959,111341?comments=1\n",
      "216\n",
      "http://www.boardgamegeek.com/xmlapi/boardgame/161417,110277,169786,19600,20437,10547,62219,158889,77423,192153,54625,19777,15363,71721,19857,184151,8217,131357,116998,8125,12962,90419,6249,183562,119432?comments=1\n",
      "191\n",
      "http://www.boardgamegeek.com/xmlapi/boardgame/108784,43528,172818,503,104006,171668,1353,217398,463,25554,201808,100423,59294,123260,24508,3685,31627,2511,1513,47185,45315,200680,27976,192836,181521?comments=1\n",
      "166\n",
      "http://www.boardgamegeek.com/xmlapi/boardgame/36553,163745,15062,875,163068,144797,167400,117915,156943,133038,123540,41066,55600,54998,11170,156336,25292,46,58281,199561,55670,160499,67492,103885,103886?comments=1\n",
      "141\n",
      "http://www.boardgamegeek.com/xmlapi/boardgame/155426,163412,83330,178900,181279,110327,70919,55690,173442,108745,155873,129437,198928,62222,62227,13004,27162,40765,65781,97786,120677,31260,182631,40628,168435?comments=1\n",
      "116\n",
      "http://www.boardgamegeek.com/xmlapi/boardgame/36218,17392,28023,159675,66362,58421,119506,54,50,189932,168917,180974,144733,15987,15985,183251,156689,24181,31563,129948,102680,124742,89409,39938,27708?comments=1\n",
      "91\n",
      "http://www.boardgamegeek.com/xmlapi/boardgame/176396,169255,118,151004,144592,188834,91872,144189,421,28720,42215,162007,22345,77130,96848,39683,121408,20100,224517,147949,12891,105551,176494,146021,150997?comments=1\n",
      "66\n",
      "http://www.boardgamegeek.com/xmlapi/boardgame/146791,66589,41114,160010,158899,163967,30549,483,163968,13122,163602,181304,25417,30869,1041,12902,146886,2181,3076,224907,25021,105134,156566,119788,191862?comments=1\n",
      "41\n",
      "http://www.boardgamegeek.com/xmlapi/boardgame/98351,34219,40692,1035,174785,140620,161936,220597,169426,73171,46213,124708,171499,65532,213893,128621,174430,125153,128780,47,42,193738,66356,9609,4098?comments=1\n",
      "16\n",
      "http://www.boardgamegeek.com/xmlapi/boardgame/154809,21241,22827,22825,9216,9217,121288,4390,198773,176189,192458,42776,475,478,115746,192457?comments=1\n"
     ]
    }
   ],
   "source": [
    "#find the descriptions of all the games and add to dictionary\n",
    "games = list(set(board_games_nums))\n",
    "dic ={}\n",
    "while len(games)>0:\n",
    "    print len(games)\n",
    "    s = ','.join(games[:25])\n",
    "    final_url = 'http://www.boardgamegeek.com/xmlapi/boardgame/' + s + '?comments=1'\n",
    "    print final_url\n",
    "    soup = BeautifulSoup(urllib2.urlopen(urllib2.Request(final_url)).read())\n",
    "    for num in games[:25]:\n",
    "        name_of_game = soup.find('boardgame', {'objectid': num}).find('name', {'primary' : 'true'}).text\n",
    "        des = soup.find('boardgame', {'objectid': num}).description.text\n",
    "        dic[name_of_game] = {}\n",
    "        dic[name_of_game]['description'] = des\n",
    "        #list_of_comments =[]\n",
    "        #for c in soup.find('boardgame', {'objectid': num}).find_all('comment', {'usernames': True}):\n",
    "        #    list_of_comments.append(c.text)\n",
    "        #dic[name_of_game]['comments'] = ' '.join(list_of_comments)\n",
    "    games = games[25:]\n"
   ]
  }
 ],
 "metadata": {
  "kernelspec": {
   "display_name": "Python 2",
   "language": "python",
   "name": "python2"
  },
  "language_info": {
   "codemirror_mode": {
    "name": "ipython",
    "version": 2
   },
   "file_extension": ".py",
   "mimetype": "text/x-python",
   "name": "python",
   "nbconvert_exporter": "python",
   "pygments_lexer": "ipython2",
   "version": "2.7.11"
  }
 },
 "nbformat": 4,
 "nbformat_minor": 0
}
