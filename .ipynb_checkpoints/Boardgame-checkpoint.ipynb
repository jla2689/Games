{
 "cells": [
  {
   "cell_type": "code",
   "execution_count": 2,
   "metadata": {},
   "outputs": [
    {
     "name": "stderr",
     "output_type": "stream",
     "text": [
      "/anaconda2/lib/python2.7/site-packages/fuzzywuzzy/fuzz.py:35: UserWarning: Using slow pure-python SequenceMatcher. Install python-Levenshtein to remove this warning\n",
      "  warnings.warn('Using slow pure-python SequenceMatcher. Install python-Levenshtein to remove this warning')\n"
     ]
    }
   ],
   "source": [
    "import urllib2, time, random, re\n",
    "from bs4 import BeautifulSoup, SoupStrainer\n",
    "import pandas as pd\n",
    "import requests\n",
    "import pickle\n",
    "import nltk\n",
    "from sklearn.metrics.pairwise import cosine_similarity\n",
    "import re\n",
    "import numpy as np\n",
    "from fuzzywuzzy import process, fuzz\n",
    "from sklearn.metrics.pairwise import pairwise_distances\n",
    "import sys\n",
    "sys.setrecursionlimit(10000000)"
   ]
  },
  {
   "cell_type": "code",
   "execution_count": 4,
   "metadata": {},
   "outputs": [],
   "source": [
    "#find all the links given website and append to all_url list. From that list find all the links that end with /boardgame/somedigits\n",
    "soup = BeautifulSoup(urllib2.urlopen(urllib2.Request(\"https://boardgamegeek.com/browse/boardgame\")).read())\n",
    "all_url = []\n",
    "for i in range(1,6):\n",
    "    soup = BeautifulSoup(urllib2.urlopen(urllib2.Request(\"https://boardgamegeek.com/browse/boardgame/page/\" + str(i))).read())\n",
    "    for a in soup.find_all('a', href = True):\n",
    "        all_url.append(a['href'])\n",
    "board_games = []\n",
    "for url in all_url:\n",
    "    if re.match('/boardgame/\\d+\\w+', url):\n",
    "        board_games.append(url)"
   ]
  },
  {
   "cell_type": "code",
   "execution_count": 7,
   "metadata": {},
   "outputs": [],
   "source": [
    "#get the board game ID numbers\n",
    "board_games_nums =[]\n",
    "for b in board_games:\n",
    "    d = re.search('\\d+', b)\n",
    "    board_games_nums.append(d.group(0))"
   ]
  },
  {
   "cell_type": "code",
   "execution_count": 69,
   "metadata": {
    "scrolled": true
   },
   "outputs": [],
   "source": [
    "#find the descriptions of all the games and add to dictionary\n",
    "games = list(set(board_games_nums))\n",
    "dic ={}\n",
    "while len(games)>0:\n",
    "    #print len(games)\n",
    "    s = ','.join(games[:25])\n",
    "    final_url = 'http://www.boardgamegeek.com/xmlapi/boardgame/' + s #+ '?comments=1'\n",
    "    #print final_url\n",
    "    soup = BeautifulSoup(urllib2.urlopen(urllib2.Request(final_url)).read())\n",
    "    for num in games[:25]:\n",
    "        name_of_game = soup.find('boardgame', {'objectid': num}).find('name', {'primary' : 'true'}).text\n",
    "        des = soup.find('boardgame', {'objectid': num}).description.text\n",
    "        dic[name_of_game] = {}\n",
    "        dic[name_of_game]['description'] = des\n",
    "        mech = soup.find('boardgame', {'objectid': num}).find_all('boardgamemechanic', text = True)\n",
    "        m = [t.text for t in mech]\n",
    "        dic[name_of_game]['mechanism'] = m\n",
    "        #list_of_comments =[]\n",
    "        #for c in soup.find('boardgame', {'objectid': num}).find_all('comment', {'usernames': True}):\n",
    "        #    list_of_comments.append(c.text)\n",
    "        #dic[name_of_game]['comments'] = ' '.join(list_of_comments)\n",
    "    games = games[25:]\n"
   ]
  },
  {
   "cell_type": "code",
   "execution_count": 73,
   "metadata": {},
   "outputs": [],
   "source": [
    "#saving the dictionary \n",
    "pickle_out = open('dic_of_game_desp', 'wb')\n",
    "pickle.dump(dic, pickle_out)\n",
    "pickle_out.close()"
   ]
  },
  {
   "cell_type": "code",
   "execution_count": 3,
   "metadata": {},
   "outputs": [],
   "source": [
    "#loading the dictionary\n",
    "pickle_in = open('dic_of_game_desp', 'rb')\n",
    "dic2 = pickle.load(pickle_in)"
   ]
  },
  {
   "cell_type": "code",
   "execution_count": 4,
   "metadata": {},
   "outputs": [],
   "source": [
    "for key in dic2:\n",
    "    mech = dic2[key]['mechanism'] \n",
    "    m = [t.text for t in mech]\n",
    "    dic2[key]['mechanism'] = m"
   ]
  },
  {
   "cell_type": "code",
   "execution_count": 54,
   "metadata": {},
   "outputs": [],
   "source": [
    "#tokenize words\n",
    "#do some preprocessing with Lemmatizer and Stemming\n",
    "from nltk.tokenize import RegexpTokenizer\n",
    "from nltk.corpus import stopwords\n",
    "from nltk.stem import WordNetLemmatizer, PorterStemmer\n",
    "tokenize ={}\n",
    "tokenize_lem = {}\n",
    "tokenize_stem = {}\n",
    "stop_words = stopwords.words('english')\n",
    "stop_words.append('br')\n",
    "stop_words = set(stop_words)\n",
    "tokenizer = RegexpTokenizer(r'\\w+')\n",
    "lemmatizer = WordNetLemmatizer()\n",
    "ps = PorterStemmer()\n",
    "for game in dic2.keys():\n",
    "    des = tokenizer.tokenize(dic2[game]['description'])\n",
    "    lower_des = [d.lower() for d in des]\n",
    "    filtered_des = [w for w in lower_des if not w in stop_words]\n",
    "    lem_des = [lemmatizer.lemmatize(w) for w in filtered_des]\n",
    "    stem_des = [ps.stem(w) for w in filtered_des]\n",
    "    tokenize_lem[game] = nltk.FreqDist(lem_des)\n",
    "    tokenize[game]= nltk.FreqDist(filtered_des)\n",
    "    tokenize_stem[game] = nltk.FreqDist(stem_des)"
   ]
  },
  {
   "cell_type": "code",
   "execution_count": 55,
   "metadata": {},
   "outputs": [],
   "source": [
    "#change tokenize words to Dataframe\n",
    "tokenize_df = pd.DataFrame.from_dict(tokenize, orient = 'index').fillna(0)\n",
    "tokenize_stem_df = pd.DataFrame.from_dict(tokenize_stem, orient = 'index').fillna(0)\n",
    "tokenize_lem_df = pd.DataFrame.from_dict(tokenize_lem, orient = 'index').fillna(0)"
   ]
  },
  {
   "cell_type": "code",
   "execution_count": 37,
   "metadata": {},
   "outputs": [
    {
     "data": {
      "text/plain": [
       "[u'caverna']"
      ]
     },
     "execution_count": 37,
     "metadata": {},
     "output_type": "execute_result"
    }
   ],
   "source": [
    "r = re.compile('Caverna'.lower())\n",
    "games = [w.lower() for w in list(tokenize_df.columns.values)]\n",
    "g = filter(r.match, games)\n",
    "g"
   ]
  },
  {
   "cell_type": "code",
   "execution_count": 47,
   "metadata": {},
   "outputs": [],
   "source": [
    "#Term frequency\n",
    "def term_freq(df):\n",
    "    df.loc[:,:]= df.loc[:,:].div(df.sum(axis=1), axis = 0)\n",
    "    return(df)"
   ]
  },
  {
   "cell_type": "code",
   "execution_count": 48,
   "metadata": {},
   "outputs": [],
   "source": [
    "def IDF(df):\n",
    "    num_doc_with_word = df.astype(bool).sum(axis=0)\n",
    "    num_games = len(df.index)\n",
    "    idf = np.log(num_games / (1 + df.astype(bool).sum(axis=0)))\n",
    "    return(idf)"
   ]
  },
  {
   "cell_type": "code",
   "execution_count": 49,
   "metadata": {},
   "outputs": [],
   "source": [
    "def tf_idf(tf_df, idf):\n",
    "    df = tf_df.multiply(idf, axis =1)\n",
    "    return(df)"
   ]
  },
  {
   "cell_type": "code",
   "execution_count": 56,
   "metadata": {},
   "outputs": [],
   "source": [
    "t = term_freq(tokenize_df)\n",
    "idf_t = IDF(t)\n",
    "t_dif = tf_idf(t, idf_t.values)"
   ]
  },
  {
   "cell_type": "code",
   "execution_count": 45,
   "metadata": {},
   "outputs": [],
   "source": [
    "ts = term_freq(tokenize_stem_df)\n",
    "idf_t_s = IDF(ts)\n",
    "t_dif_s = tf_idf(ts, idf_t_s.values)"
   ]
  },
  {
   "cell_type": "code",
   "execution_count": 57,
   "metadata": {},
   "outputs": [],
   "source": [
    "tl = term_freq(tokenize_lem_df)\n",
    "idf_t_l = IDF(tl)\n",
    "t_dif_l = tf_idf(tl, idf_t_l.values)"
   ]
  },
  {
   "cell_type": "code",
   "execution_count": 6,
   "metadata": {},
   "outputs": [],
   "source": [
    "game_mech ={}\n",
    "for game in dic2.keys():\n",
    "    #mech = tokenizer.tokenize(dic[game]['mechanism'])\n",
    "    lower_mech = [m.lower() for m in dic2[game]['mechanism']]\n",
    "    game_mech[game] = nltk.FreqDist(lower_mech)"
   ]
  },
  {
   "cell_type": "code",
   "execution_count": 105,
   "metadata": {},
   "outputs": [],
   "source": [
    "mech_df = pd.DataFrame.from_dict(game_mech, orient = 'index').fillna(0)"
   ]
  },
  {
   "cell_type": "code",
   "execution_count": 26,
   "metadata": {},
   "outputs": [],
   "source": [
    "def recommend(game, df):\n",
    "    cos = cosine_similarity(df)\n",
    "    game_names = [c.lower() for c in df.index.values]\n",
    "    cos_df = pd.DataFrame(cos, index = game_names, columns = game_names)\n",
    "    g_extract = process.extractOne(str(game).lower() , game_names)\n",
    "    if fuzz.partial_ratio(str(game), g_extract[0]) < 75:\n",
    "        print ('This game is not in the top 100 games in BGG, did you mean ' + g_extract[0])\n",
    "    else:\n",
    "        top = cos_df.loc[:,g_extract[0]].sort_values(ascending = False)[1:11].index.values\n",
    "        print'Top 10 matches for ', g_extract[0]\n",
    "        for c, value in enumerate(top, 1):\n",
    "            print c, value"
   ]
  },
  {
   "cell_type": "code",
   "execution_count": 55,
   "metadata": {},
   "outputs": [
    {
     "name": "stdout",
     "output_type": "stream",
     "text": [
      "Top 10 for matches for  caverna: the cave farmers\n",
      "1 vast: the crystal caverns\n",
      "2 agricola: all creatures big and small\n",
      "3 agricola (revised edition)\n",
      "4 summoner wars: guild dwarves vs cave goblins\n",
      "5 agricola\n",
      "6 ora et labora\n",
      "7 antiquity\n",
      "8 above and below\n",
      "9 la granja\n",
      "10 mage knight board game\n"
     ]
    }
   ],
   "source": [
    "recommend('caverna', df = t_dif_s)"
   ]
  },
  {
   "cell_type": "code",
   "execution_count": 57,
   "metadata": {},
   "outputs": [
    {
     "name": "stdout",
     "output_type": "stream",
     "text": [
      "Top 10 for matches for  caverna: the cave farmers\n",
      "1 vast: the crystal caverns\n",
      "2 summoner wars: guild dwarves vs cave goblins\n",
      "3 agricola: all creatures big and small\n",
      "4 agricola (revised edition)\n",
      "5 agricola\n",
      "6 ora et labora\n",
      "7 above and below\n",
      "8 summoner wars: alliances master set\n",
      "9 belfort\n",
      "10 the colonists\n"
     ]
    }
   ],
   "source": [
    "recommend('caverna', df = t_dif)"
   ]
  },
  {
   "cell_type": "code",
   "execution_count": 64,
   "metadata": {},
   "outputs": [
    {
     "name": "stdout",
     "output_type": "stream",
     "text": [
      "Top 10 matches for  agricola\n",
      "1 agricola (revised edition)\n",
      "2 snowdonia\n",
      "3 lorenzo il magnifico\n",
      "4 the godfather: corleone's empire\n",
      "5 star wars: the card game\n",
      "6 alchemists\n",
      "7 imperial settlers\n",
      "8 viticulture\n",
      "9 warhammer: invasion\n",
      "10 a game of thrones: the card game (second edition)\n"
     ]
    }
   ],
   "source": [
    "def reccomend_jac(game, df):\n",
    "    game_names = [c.lower() for c in df.index.values]\n",
    "    g_extract = process.extractOne(str(game).lower() , game_names)\n",
    "    if fuzz.partial_ratio(str(game), g_extract[0]) < 75:\n",
    "        print ('This game is not in the top 100 games in BGG, did you mean ' + g_extract[0])\n",
    "    else:    \n",
    "        jac_sim = 1 - pairwise_distances(df, metric = \"hamming\")\n",
    "        jac_sim = pd.DataFrame(jac_sim, columns = game_names, index = game_names)\n",
    "        top_10 = jac_sim.loc[:, g_extract[0]].sort_values(ascending = False)[1:11].index.values\n",
    "        print 'Top 10 matches for ' , str(g_extract[0])\n",
    "        for c, value in enumerate(top_10, 1):\n",
    "            print c, value\n",
    "reccomend_jac('agricola', df = mech_df)"
   ]
  },
  {
   "cell_type": "code",
   "execution_count": null,
   "metadata": {},
   "outputs": [],
   "source": []
  }
 ],
 "metadata": {
  "kernelspec": {
   "display_name": "Python 2",
   "language": "python",
   "name": "python2"
  },
  "language_info": {
   "codemirror_mode": {
    "name": "ipython",
    "version": 2
   },
   "file_extension": ".py",
   "mimetype": "text/x-python",
   "name": "python",
   "nbconvert_exporter": "python",
   "pygments_lexer": "ipython2",
   "version": "2.7.14"
  }
 },
 "nbformat": 4,
 "nbformat_minor": 1
}
